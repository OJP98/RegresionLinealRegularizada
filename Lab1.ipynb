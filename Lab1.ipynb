{
 "cells": [
  {
   "cell_type": "markdown",
   "metadata": {},
   "source": [
    "# Hoja de Trabajo #1 \n",
    "### Regresión Lineal Regularizada\n",
    "\n",
    "Universidad del Valle de Guatemala\n",
    "\n",
    "Oscar Juárez - 17315\n",
    "\n",
    "Inteligencia Artificial\n",
    "\n",
    "Fecha: 8/03/20"
   ]
  },
  {
   "cell_type": "markdown",
   "metadata": {},
   "source": [
    "## 1. Leer el archivo CSV"
   ]
  },
  {
   "cell_type": "markdown",
   "metadata": {},
   "source": [
    "Importación de librerías"
   ]
  },
  {
   "cell_type": "code",
   "execution_count": 2,
   "metadata": {},
   "outputs": [],
   "source": [
    "import numpy as np\n",
    "from matplotlib import pyplot as plt\n",
    "from gradient_descent import gradient_descent\n",
    "from linear_cost import linear_cost\n",
    "from linear_cost_derivate import linear_cost_derivate"
   ]
  },
  {
   "cell_type": "markdown",
   "metadata": {},
   "source": [
    "Leer el .txt"
   ]
  },
  {
   "cell_type": "code",
   "execution_count": 3,
   "metadata": {},
   "outputs": [],
   "source": [
    "admission = np.loadtxt('Admission_Predict.csv', delimiter=\",\" , skiprows=1)"
   ]
  },
  {
   "cell_type": "markdown",
   "metadata": {},
   "source": [
    "Asignar variables desde el dataset"
   ]
  },
  {
   "cell_type": "code",
   "execution_count": 4,
   "metadata": {},
   "outputs": [],
   "source": [
    "# Ignorar el campo Serial No., Rating y Research\n",
    "x = np.array(admission[:, [1,2,4,5,6]])\n",
    "\n",
    "# El y se considera como el chance of admit\n",
    "y = np.array(admission[:, 8])\n",
    "\n",
    "# Tamaño del dataset\n",
    "TRAINING_ELEMENTS = len(y)"
   ]
  },
  {
   "cell_type": "markdown",
   "metadata": {},
   "source": [
    "Crear el vector de unos y adjuntarlo a la matriz de datos, además de reajustar los datos resultado (y)"
   ]
  },
  {
   "cell_type": "code",
   "execution_count": 6,
   "metadata": {},
   "outputs": [],
   "source": [
    "# Se crea vector de unos\n",
    "ones = np.ones(TRAINING_ELEMENTS, dtype=int)\n",
    "\n",
    "# se adjunta la matriz de datos con la columna de unos al inicio\n",
    "X = np.column_stack((ones, x))\n",
    "\n",
    "# Ajustar y para que solo sea una columna\n",
    "y = y.reshape(TRAINING_ELEMENTS,1)"
   ]
  },
  {
   "cell_type": "markdown",
   "metadata": {},
   "source": [
    "Obtener dimensiones m, n y proponer un theta inicial"
   ]
  },
  {
   "cell_type": "code",
   "execution_count": 7,
   "metadata": {},
   "outputs": [],
   "source": [
    "# Obtener m, n y proponer un theta (random)\n",
    "m, n = X.shape\n",
    "theta_0 = np.random.rand(n, 1)"
   ]
  },
  {
   "cell_type": "markdown",
   "metadata": {},
   "source": [
    "Utilizar la función de descenso al gradiente para obtener datos"
   ]
  },
  {
   "cell_type": "code",
   "execution_count": 8,
   "metadata": {},
   "outputs": [],
   "source": [
    "# Obtener theta, los costos y las normales del gradientes\n",
    "# con la función de descenso de gradiente\n",
    "theta, costs, gradient_norms = gradient_descent(\n",
    "    X,\n",
    "    y,\n",
    "    theta_0,\n",
    "    linear_cost,\n",
    "    linear_cost_derivate,\n",
    "    alpha=0.0000000001,\n",
    "    treshold=0.001,\n",
    "    max_iter=10000\n",
    ")"
   ]
  },
  {
   "cell_type": "markdown",
   "metadata": {},
   "source": [
    "Impresión de resultados y gráficos"
   ]
  },
  {
   "cell_type": "code",
   "execution_count": 10,
   "metadata": {},
   "outputs": [
    {
     "name": "stdout",
     "output_type": "stream",
     "text": [
      "THETA: [[0.53804158]\n",
      " [0.28862317]\n",
      " [0.61731896]\n",
      " [0.27180068]\n",
      " [0.61578446]\n",
      " [0.00943435]]\n"
     ]
    },
    {
     "data": {
      "image/png": "[encoded data removed]",
      "text/plain": [
       "<Figure size 432x288 with 1 Axes>"
      ]
     },
     "metadata": {
      "needs_background": "light"
     },
     "output_type": "display_data"
    }
   ],
   "source": [
    "# Imprimir resultados\n",
    "print('THETA:', theta)\n",
    "plt.scatter(X[:, 1], y)\n",
    "plt.plot(X[:, 1], np.matmul(X, theta), color='red')\n",
    "plt.show()"
   ]
  }
 ],
 "metadata": {
  "kernelspec": {
   "display_name": "Python 3",
   "language": "python",
   "name": "python3"
  },
  "language_info": {
   "codemirror_mode": {
    "name": "ipython",
    "version": 3
   },
   "file_extension": ".py",
   "mimetype": "text/x-python",
   "name": "python",
   "nbconvert_exporter": "python",
   "pygments_lexer": "ipython3",
   "version": "3.7.2"
  }
 },
 "nbformat": 4,
 "nbformat_minor": 4
}
